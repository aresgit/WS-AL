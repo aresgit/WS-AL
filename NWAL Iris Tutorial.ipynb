{
    "nbformat_minor": 1, 
    "cells": [
        {
            "execution_count": 1, 
            "cell_type": "code", 
            "metadata": {}, 
            "outputs": [], 
            "source": "!rm -rf $PIP_BUILD/watson-machine-learning-client"
        }, 
        {
            "execution_count": 2, 
            "cell_type": "code", 
            "metadata": {}, 
            "outputs": [
                {
                    "output_type": "stream", 
                    "name": "stdout", 
                    "text": "Collecting watson-machine-learning-client\n  Downloading https://files.pythonhosted.org/packages/45/ef/6de4fdcea6ac5c1bb750e2251da7e20bc0bf4bd6be66692429e44f7c27bc/watson_machine_learning_client-1.0.83-py3-none-any.whl (565kB)\n\u001b[K    100% |\u2588\u2588\u2588\u2588\u2588\u2588\u2588\u2588\u2588\u2588\u2588\u2588\u2588\u2588\u2588\u2588\u2588\u2588\u2588\u2588\u2588\u2588\u2588\u2588\u2588\u2588\u2588\u2588\u2588\u2588\u2588\u2588| 573kB 1.6MB/s eta 0:00:01\n\u001b[?25hRequirement not upgraded as not directly required: lomond in /opt/conda/envs/DSX-Python35/lib/python3.5/site-packages (from watson-machine-learning-client)\nRequirement not upgraded as not directly required: requests in /opt/conda/envs/DSX-Python35/lib/python3.5/site-packages (from watson-machine-learning-client)\nRequirement not upgraded as not directly required: urllib3 in /opt/conda/envs/DSX-Python35/lib/python3.5/site-packages (from watson-machine-learning-client)\nRequirement not upgraded as not directly required: ibm-cos-sdk in /opt/conda/envs/DSX-Python35/lib/python3.5/site-packages (from watson-machine-learning-client)\nRequirement not upgraded as not directly required: certifi in /opt/conda/envs/DSX-Python35/lib/python3.5/site-packages (from watson-machine-learning-client)\nRequirement not upgraded as not directly required: tabulate in /opt/conda/envs/DSX-Python35/lib/python3.5/site-packages (from watson-machine-learning-client)\nRequirement not upgraded as not directly required: tqdm in /opt/conda/envs/DSX-Python35/lib/python3.5/site-packages (from watson-machine-learning-client)\nRequirement not upgraded as not directly required: pandas in /opt/conda/envs/DSX-Python35/lib/python3.5/site-packages (from watson-machine-learning-client)\nRequirement not upgraded as not directly required: six>=1.10.0 in /opt/conda/envs/DSX-Python35/lib/python3.5/site-packages (from lomond->watson-machine-learning-client)\nRequirement not upgraded as not directly required: chardet<3.1.0,>=3.0.2 in /opt/conda/envs/DSX-Python35/lib/python3.5/site-packages (from requests->watson-machine-learning-client)\nRequirement not upgraded as not directly required: idna<2.7,>=2.5 in /opt/conda/envs/DSX-Python35/lib/python3.5/site-packages (from requests->watson-machine-learning-client)\nRequirement not upgraded as not directly required: ibm-cos-sdk-s3transfer==2.*,>=2.0.0 in /opt/conda/envs/DSX-Python35/lib/python3.5/site-packages (from ibm-cos-sdk->watson-machine-learning-client)\nRequirement not upgraded as not directly required: ibm-cos-sdk-core==2.*,>=2.0.0 in /opt/conda/envs/DSX-Python35/lib/python3.5/site-packages (from ibm-cos-sdk->watson-machine-learning-client)\nRequirement not upgraded as not directly required: python-dateutil>=2 in /opt/conda/envs/DSX-Python35/lib/python3.5/site-packages (from pandas->watson-machine-learning-client)\nRequirement not upgraded as not directly required: pytz>=2011k in /opt/conda/envs/DSX-Python35/lib/python3.5/site-packages (from pandas->watson-machine-learning-client)\nRequirement not upgraded as not directly required: numpy>=1.9.0 in /opt/conda/envs/DSX-Python35/lib/python3.5/site-packages (from pandas->watson-machine-learning-client)\nRequirement not upgraded as not directly required: jmespath<1.0.0,>=0.7.1 in /opt/conda/envs/DSX-Python35/lib/python3.5/site-packages (from ibm-cos-sdk-core==2.*,>=2.0.0->ibm-cos-sdk->watson-machine-learning-client)\nRequirement not upgraded as not directly required: docutils>=0.10 in /opt/conda/envs/DSX-Python35/lib/python3.5/site-packages (from ibm-cos-sdk-core==2.*,>=2.0.0->ibm-cos-sdk->watson-machine-learning-client)\nInstalling collected packages: watson-machine-learning-client\n  Found existing installation: watson-machine-learning-client 1.0.12\n    Uninstalling watson-machine-learning-client-1.0.12:\n      Successfully uninstalled watson-machine-learning-client-1.0.12\nSuccessfully installed watson-machine-learning-client-1.0.83\n"
                }
            ], 
            "source": "#Install the WML client if required.\n!pip install watson-machine-learning-client --upgrade"
        }, 
        {
            "execution_count": 3, 
            "cell_type": "code", 
            "metadata": {}, 
            "outputs": [], 
            "source": "wml_credentials = {\n  \"url\": \"https://ibm-watson-ml.mybluemix.net\",\n  \"username\": \"52d46c59-49a8-4fec-a28d-5498e217a426\",\n  \"password\": \"efee6497-827a-4f31-997f-d8cb7cff852a\",\n  \"instance_id\": \"ae740039-e875-48e3-82a5-c646d9bee8a3\"\n}"
        }, 
        {
            "execution_count": 4, 
            "cell_type": "code", 
            "metadata": {}, 
            "outputs": [], 
            "source": "from watson_machine_learning_client import WatsonMachineLearningAPIClient"
        }, 
        {
            "execution_count": 5, 
            "cell_type": "code", 
            "metadata": {}, 
            "outputs": [], 
            "source": "wml_client = WatsonMachineLearningAPIClient(wml_credentials)"
        }, 
        {
            "execution_count": 6, 
            "cell_type": "code", 
            "metadata": {}, 
            "outputs": [
                {
                    "output_type": "stream", 
                    "name": "stdout", 
                    "text": "{'metadata': {'url': 'https://ibm-watson-ml.mybluemix.net/v3/wml_instances/ae740039-e875-48e3-82a5-c646d9bee8a3', 'modified_at': '2018-04-16T15:29:31.404Z', 'guid': 'ae740039-e875-48e3-82a5-c646d9bee8a3', 'created_at': '2018-04-16T15:29:31.404Z'}, 'entity': {'organization_guid': '391b59f1-c040-4fad-acb4-9fccc63826fc', 'plan': 'lite', 'region': 'us-south', 'owner': {'country_code': 'USA', 'ibm_id': '502K958BYM', 'user_id': '2f4badfc-a95d-4620-aa3f-1d28e7c650f8', 'email': 'haya3@nationwide.com', 'beta_user': False}, 'usage': {'gpu_count': {'limit': 8, 'current': 0}, 'computation_time': {'limit': 180000, 'current': 0}, 'capacity_units': {'limit': 180000000, 'current': 0}, 'expiration_date': '2018-05-01T00:00:00.000Z', 'deployment_count': {'limit': 5, 'current': 0}, 'prediction_count': {'limit': 5000, 'current': 0}, 'model_count': {'limit': 200, 'current': 0}}, 'status': 'Active', 'account': {'name': '', 'type': 'PAYG', 'id': '0027c35d0b236714fd648c4ceaced5b3'}, 'published_models': {'url': 'https://ibm-watson-ml.mybluemix.net/v3/wml_instances/ae740039-e875-48e3-82a5-c646d9bee8a3/published_models'}, 'space_guid': 'd7cfd458-2f72-4540-a2f4-c0bdce5fc852', 'plan_id': '3f6acf43-ede8-413a-ac69-f8af3bb0cbfe', 'deployments': {'url': 'https://ibm-watson-ml.mybluemix.net/v3/wml_instances/ae740039-e875-48e3-82a5-c646d9bee8a3/deployments'}, 'source': 'Bluemix'}}\n"
                }
            ], 
            "source": "# List information about your WML service instance.\nprint(wml_client.instance_details)"
        }, 
        {
            "execution_count": 7, 
            "cell_type": "code", 
            "metadata": {}, 
            "outputs": [
                {
                    "output_type": "stream", 
                    "name": "stdout", 
                    "text": "----  ----  -------  ---------\nGUID  NAME  CREATED  FRAMEWORK\n----  ----  -------  ---------\n"
                }
            ], 
            "source": "# List information about the stored models.\nwml_client.repository.list_models()"
        }, 
        {
            "execution_count": 8, 
            "cell_type": "code", 
            "metadata": {}, 
            "outputs": [
                {
                    "output_type": "stream", 
                    "name": "stdout", 
                    "text": "----  ----  ----  -----  -------  ---------\nGUID  NAME  TYPE  STATE  CREATED  FRAMEWORK\n----  ----  ----  -----  -------  ---------\n"
                }
            ], 
            "source": "# List the deployed models.\nwml_client.deployments.list()"
        }, 
        {
            "execution_count": 11, 
            "cell_type": "code", 
            "metadata": {}, 
            "outputs": [
                {
                    "output_type": "stream", 
                    "name": "stdout", 
                    "text": "Collecting wget\n  Downloading https://files.pythonhosted.org/packages/47/6a/62e288da7bcda82b935ff0c6cfe542970f04e29c756b0e147251b2fb251f/wget-3.2.zip\nBuilding wheels for collected packages: wget\n  Running setup.py bdist_wheel for wget ... \u001b[?25ldone\n\u001b[?25h  Stored in directory: /home/dsxuser/.cache/pip/wheels/40/15/30/7d8f7cea2902b4db79e3fea550d7d7b85ecb27ef992b618f3f\nSuccessfully built wget\nInstalling collected packages: wget\nSuccessfully installed wget-3.2\n"
                }
            ], 
            "source": "!pip install wget"
        }, 
        {
            "execution_count": 15, 
            "cell_type": "code", 
            "metadata": {}, 
            "outputs": [], 
            "source": "# Download sample PMML model, iris_chaid.xml, from Git.\nimport wget, os\n\nsample_dir = 'pmml_sample_model'\nif not os.path.isdir(sample_dir):\n    os.mkdir(sample_dir)\n    \nfilename=os.path.join(sample_dir, 'iris_chaid.xml')\nif not os.path.isfile(filename):\n    filename = wget.download('https://github.com/pmservice/wml-sample-models/raw/master/pmml/iris-species/model/iris_chaid.xml', out=sample_dir)"
        }, 
        {
            "execution_count": 16, 
            "cell_type": "code", 
            "metadata": {}, 
            "outputs": [
                {
                    "output_type": "stream", 
                    "name": "stdout", 
                    "text": "------------------------------------  ------------------------------  ------------------------  ---------\nGUID                                  NAME                            CREATED                   FRAMEWORK\n8ed30e7d-0a26-4b4b-8a8e-946e53c4f98d  CHAID PMML model for Iris data  2018-04-16T15:51:56.704Z  pmml-4.2\n------------------------------------  ------------------------------  ------------------------  ---------\n"
                }
            ], 
            "source": "# Save the downloaded file to the WML repository.\nprops_pmml = {wml_client.repository.ModelMetaNames.NAME: 'CHAID PMML model for Iris data',\n              wml_client.repository.ModelMetaNames.AUTHOR_NAME: \"IBM\", \n              wml_client.repository.ModelMetaNames.AUTHOR_EMAIL: \"ibm@ibm.com\", \n              wml_client.repository.ModelMetaNames.FRAMEWORK_NAME: \"pmml\", \n              wml_client.repository.ModelMetaNames.FRAMEWORK_VERSION: \"4.2\"}\n\nmodel_details = wml_client.repository.store_model(filename, props_pmml)\nwml_client.repository.list_models()"
        }, 
        {
            "execution_count": 17, 
            "cell_type": "code", 
            "metadata": {}, 
            "outputs": [
                {
                    "output_type": "stream", 
                    "name": "stdout", 
                    "text": "\n\n#######################################################################################\n\nSynchronous deployment creation for uid: '4136252c-d354-43c4-bcb9-16396d850079' started\n\n#######################################################################################\n\n\nINITIALIZING\nDEPLOY_SUCCESS\n\n\n------------------------------------------------------------------------------------------------\nSuccessfully finished deployment creation, deployment_uid='4136252c-d354-43c4-bcb9-16396d850079'\n------------------------------------------------------------------------------------------------\n\n\n------------------------------------  -----------------------  ------  --------------  ------------------------  ---------\nGUID                                  NAME                     TYPE    STATE           CREATED                   FRAMEWORK\n4136252c-d354-43c4-bcb9-16396d850079  Iris species prediction  online  DEPLOY_SUCCESS  2018-04-16T15:54:10.253Z  pmml-4.2\n------------------------------------  -----------------------  ------  --------------  ------------------------  ---------\n"
                }
            ], 
            "source": "# Create the online deployment.\nmodel_uid = wml_client.repository.get_model_uid(model_details)\nmodel_deployment = wml_client.deployments.create(model_uid, name = 'Iris species prediction')\n\nwml_client.deployments.list()"
        }, 
        {
            "execution_count": 18, 
            "cell_type": "code", 
            "metadata": {}, 
            "outputs": [
                {
                    "output_type": "stream", 
                    "name": "stdout", 
                    "text": "https://ibm-watson-ml.mybluemix.net/v3/wml_instances/ae740039-e875-48e3-82a5-c646d9bee8a3/published_models/8ed30e7d-0a26-4b4b-8a8e-946e53c4f98d/deployments/4136252c-d354-43c4-bcb9-16396d850079/online\n"
                }
            ], 
            "source": "# Verify the online scoring endpoint.\nmodel_scoring_url = wml_client.deployments.get_scoring_url(model_deployment)\n\nprint(model_scoring_url)"
        }, 
        {
            "execution_count": 21, 
            "cell_type": "code", 
            "metadata": {}, 
            "outputs": [
                {
                    "output_type": "stream", 
                    "name": "stdout", 
                    "text": "{'fields': ['PredictedValue', 'Confidence'], 'values': [['setosa', 1.0]]}\n"
                }
            ], 
            "source": "# Score data and predict species of flower.\nscoring_data = {'fields': ['Sepal.Length', 'Sepal.Width', 'Petal.Length', 'Petal.Width'], 'values': [[5.1, 3.5, 1.4, 0.2]]}\npredictions = wml_client.deployments.score(model_scoring_url, scoring_data) \n\nprint(predictions)"
        }, 
        {
            "execution_count": null, 
            "cell_type": "code", 
            "metadata": {}, 
            "outputs": [], 
            "source": ""
        }
    ], 
    "metadata": {
        "kernelspec": {
            "display_name": "Python 3.5", 
            "name": "python3", 
            "language": "python"
        }, 
        "language_info": {
            "mimetype": "text/x-python", 
            "nbconvert_exporter": "python", 
            "version": "3.5.4", 
            "name": "python", 
            "file_extension": ".py", 
            "pygments_lexer": "ipython3", 
            "codemirror_mode": {
                "version": 3, 
                "name": "ipython"
            }
        }
    }, 
    "nbformat": 4
}